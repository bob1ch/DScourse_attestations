{
 "cells": [
  {
   "cell_type": "code",
   "execution_count": 483,
   "id": "e04232dc-64b1-42f7-a0df-9af3236baeb5",
   "metadata": {},
   "outputs": [],
   "source": [
    "import os\n",
    "import psycopg2\n",
    "import pandas as pd\n",
    "import matplotlib.pyplot as plt\n",
    "\n",
    "from sklearn import linear_model, svm\n",
    "from sklearn.model_selection import train_test_split\n",
    "from sklearn.tree import DecisionTreeClassifier\n",
    "\n",
    "from sklearn.preprocessing import LabelEncoder\n",
    "from sklearn.experimental import enable_halving_search_cv\n",
    "from sklearn.model_selection import HalvingGridSearchCV\n",
    "\n",
    "from sklearn.ensemble import RandomForestClassifier"
   ]
  },
  {
   "cell_type": "markdown",
   "id": "abf5b6c8-7f2a-4ec5-97f4-ef972d21d0b2",
   "metadata": {},
   "source": [
    "## Задание 1"
   ]
  },
  {
   "cell_type": "code",
   "execution_count": 117,
   "id": "9c9fd76b-bab4-4da7-93f8-2858c8eb30e5",
   "metadata": {},
   "outputs": [
    {
     "name": "stderr",
     "output_type": "stream",
     "text": [
      "/tmp/ipykernel_27300/2878619563.py:8: UserWarning: pandas only supports SQLAlchemy connectable (engine/connection) or database string URI or sqlite3 DBAPI2 connection. Other DBAPI2 objects are not tested. Please consider using SQLAlchemy.\n",
      "  df = pd.read_sql_query(\"SELECT * FROM public.dataset;\", con=conn)\n"
     ]
    }
   ],
   "source": [
    "conn = psycopg2.connect(\n",
    "    host=\"localhost\",\n",
    "    database=\"innopolis\",\n",
    "    user=os.environ['DB_USERNAME'],\n",
    "    password=os.environ['DB_PASSWORD']\n",
    ")\n",
    "\n",
    "df = pd.read_sql_query(\"SELECT * FROM public.dataset;\", con=conn)\n",
    "\n",
    "cur.close()\n",
    "conn.close()"
   ]
  },
  {
   "cell_type": "code",
   "execution_count": 118,
   "id": "fde8c001-0532-425d-86df-386753c04e85",
   "metadata": {},
   "outputs": [
    {
     "data": {
      "text/html": [
       "<div>\n",
       "<style scoped>\n",
       "    .dataframe tbody tr th:only-of-type {\n",
       "        vertical-align: middle;\n",
       "    }\n",
       "\n",
       "    .dataframe tbody tr th {\n",
       "        vertical-align: top;\n",
       "    }\n",
       "\n",
       "    .dataframe thead th {\n",
       "        text-align: right;\n",
       "    }\n",
       "</style>\n",
       "<table border=\"1\" class=\"dataframe\">\n",
       "  <thead>\n",
       "    <tr style=\"text-align: right;\">\n",
       "      <th></th>\n",
       "      <th>Column1</th>\n",
       "      <th>player_name</th>\n",
       "      <th>team_abbreviation</th>\n",
       "      <th>age</th>\n",
       "      <th>player_height</th>\n",
       "      <th>player_weight</th>\n",
       "      <th>college</th>\n",
       "      <th>country</th>\n",
       "      <th>draft_year</th>\n",
       "      <th>draft_round</th>\n",
       "      <th>...</th>\n",
       "      <th>pts</th>\n",
       "      <th>reb</th>\n",
       "      <th>ast</th>\n",
       "      <th>net_rating</th>\n",
       "      <th>oreb_pct</th>\n",
       "      <th>dreb_pct</th>\n",
       "      <th>usg_pct</th>\n",
       "      <th>ts_pct</th>\n",
       "      <th>ast_pct</th>\n",
       "      <th>season</th>\n",
       "    </tr>\n",
       "  </thead>\n",
       "  <tbody>\n",
       "    <tr>\n",
       "      <th>0</th>\n",
       "      <td>0</td>\n",
       "      <td>Dennis Rodman</td>\n",
       "      <td>CHI</td>\n",
       "      <td>36.0</td>\n",
       "      <td>198.12</td>\n",
       "      <td>99.790240</td>\n",
       "      <td>Southeastern Oklahoma State</td>\n",
       "      <td>USA</td>\n",
       "      <td>1986</td>\n",
       "      <td>2</td>\n",
       "      <td>...</td>\n",
       "      <td>5.7</td>\n",
       "      <td>16.1</td>\n",
       "      <td>3.1</td>\n",
       "      <td>16.1</td>\n",
       "      <td>0.186</td>\n",
       "      <td>0.323</td>\n",
       "      <td>0.100</td>\n",
       "      <td>0.479</td>\n",
       "      <td>0.113</td>\n",
       "      <td>1996-97</td>\n",
       "    </tr>\n",
       "    <tr>\n",
       "      <th>1</th>\n",
       "      <td>1</td>\n",
       "      <td>Dwayne Schintzius</td>\n",
       "      <td>LAC</td>\n",
       "      <td>28.0</td>\n",
       "      <td>215.90</td>\n",
       "      <td>117.933920</td>\n",
       "      <td>Florida</td>\n",
       "      <td>USA</td>\n",
       "      <td>1990</td>\n",
       "      <td>1</td>\n",
       "      <td>...</td>\n",
       "      <td>2.3</td>\n",
       "      <td>1.5</td>\n",
       "      <td>0.3</td>\n",
       "      <td>12.3</td>\n",
       "      <td>0.078</td>\n",
       "      <td>0.151</td>\n",
       "      <td>0.175</td>\n",
       "      <td>0.430</td>\n",
       "      <td>0.048</td>\n",
       "      <td>1996-97</td>\n",
       "    </tr>\n",
       "    <tr>\n",
       "      <th>2</th>\n",
       "      <td>2</td>\n",
       "      <td>Earl Cureton</td>\n",
       "      <td>TOR</td>\n",
       "      <td>39.0</td>\n",
       "      <td>205.74</td>\n",
       "      <td>95.254320</td>\n",
       "      <td>Detroit Mercy</td>\n",
       "      <td>USA</td>\n",
       "      <td>1979</td>\n",
       "      <td>3</td>\n",
       "      <td>...</td>\n",
       "      <td>0.8</td>\n",
       "      <td>1.0</td>\n",
       "      <td>0.4</td>\n",
       "      <td>-2.1</td>\n",
       "      <td>0.105</td>\n",
       "      <td>0.102</td>\n",
       "      <td>0.103</td>\n",
       "      <td>0.376</td>\n",
       "      <td>0.148</td>\n",
       "      <td>1996-97</td>\n",
       "    </tr>\n",
       "    <tr>\n",
       "      <th>3</th>\n",
       "      <td>3</td>\n",
       "      <td>Ed O'Bannon</td>\n",
       "      <td>DAL</td>\n",
       "      <td>24.0</td>\n",
       "      <td>203.20</td>\n",
       "      <td>100.697426</td>\n",
       "      <td>UCLA</td>\n",
       "      <td>USA</td>\n",
       "      <td>1995</td>\n",
       "      <td>1</td>\n",
       "      <td>...</td>\n",
       "      <td>3.7</td>\n",
       "      <td>2.3</td>\n",
       "      <td>0.6</td>\n",
       "      <td>-8.7</td>\n",
       "      <td>0.060</td>\n",
       "      <td>0.149</td>\n",
       "      <td>0.167</td>\n",
       "      <td>0.399</td>\n",
       "      <td>0.077</td>\n",
       "      <td>1996-97</td>\n",
       "    </tr>\n",
       "    <tr>\n",
       "      <th>4</th>\n",
       "      <td>4</td>\n",
       "      <td>Ed Pinckney</td>\n",
       "      <td>MIA</td>\n",
       "      <td>34.0</td>\n",
       "      <td>205.74</td>\n",
       "      <td>108.862080</td>\n",
       "      <td>Villanova</td>\n",
       "      <td>USA</td>\n",
       "      <td>1985</td>\n",
       "      <td>1</td>\n",
       "      <td>...</td>\n",
       "      <td>2.4</td>\n",
       "      <td>2.4</td>\n",
       "      <td>0.2</td>\n",
       "      <td>-11.2</td>\n",
       "      <td>0.109</td>\n",
       "      <td>0.179</td>\n",
       "      <td>0.127</td>\n",
       "      <td>0.611</td>\n",
       "      <td>0.040</td>\n",
       "      <td>1996-97</td>\n",
       "    </tr>\n",
       "  </tbody>\n",
       "</table>\n",
       "<p>5 rows × 22 columns</p>\n",
       "</div>"
      ],
      "text/plain": [
       "   Column1        player_name team_abbreviation   age  player_height  \\\n",
       "0        0      Dennis Rodman               CHI  36.0         198.12   \n",
       "1        1  Dwayne Schintzius               LAC  28.0         215.90   \n",
       "2        2       Earl Cureton               TOR  39.0         205.74   \n",
       "3        3        Ed O'Bannon               DAL  24.0         203.20   \n",
       "4        4        Ed Pinckney               MIA  34.0         205.74   \n",
       "\n",
       "   player_weight                      college country draft_year draft_round  \\\n",
       "0      99.790240  Southeastern Oklahoma State     USA       1986           2   \n",
       "1     117.933920                      Florida     USA       1990           1   \n",
       "2      95.254320                Detroit Mercy     USA       1979           3   \n",
       "3     100.697426                         UCLA     USA       1995           1   \n",
       "4     108.862080                    Villanova     USA       1985           1   \n",
       "\n",
       "   ...  pts   reb  ast  net_rating  oreb_pct  dreb_pct  usg_pct  ts_pct  \\\n",
       "0  ...  5.7  16.1  3.1        16.1     0.186     0.323    0.100   0.479   \n",
       "1  ...  2.3   1.5  0.3        12.3     0.078     0.151    0.175   0.430   \n",
       "2  ...  0.8   1.0  0.4        -2.1     0.105     0.102    0.103   0.376   \n",
       "3  ...  3.7   2.3  0.6        -8.7     0.060     0.149    0.167   0.399   \n",
       "4  ...  2.4   2.4  0.2       -11.2     0.109     0.179    0.127   0.611   \n",
       "\n",
       "   ast_pct   season  \n",
       "0    0.113  1996-97  \n",
       "1    0.048  1996-97  \n",
       "2    0.148  1996-97  \n",
       "3    0.077  1996-97  \n",
       "4    0.040  1996-97  \n",
       "\n",
       "[5 rows x 22 columns]"
      ]
     },
     "execution_count": 118,
     "metadata": {},
     "output_type": "execute_result"
    }
   ],
   "source": [
    "df.head()"
   ]
  },
  {
   "cell_type": "code",
   "execution_count": 119,
   "id": "94a41d7e-c95b-490a-aa96-3968dc832ed2",
   "metadata": {},
   "outputs": [
    {
     "data": {
      "text/html": [
       "<div>\n",
       "<style scoped>\n",
       "    .dataframe tbody tr th:only-of-type {\n",
       "        vertical-align: middle;\n",
       "    }\n",
       "\n",
       "    .dataframe tbody tr th {\n",
       "        vertical-align: top;\n",
       "    }\n",
       "\n",
       "    .dataframe thead th {\n",
       "        text-align: right;\n",
       "    }\n",
       "</style>\n",
       "<table border=\"1\" class=\"dataframe\">\n",
       "  <thead>\n",
       "    <tr style=\"text-align: right;\">\n",
       "      <th></th>\n",
       "      <th>Column1</th>\n",
       "      <th>age</th>\n",
       "      <th>player_height</th>\n",
       "      <th>player_weight</th>\n",
       "      <th>gp</th>\n",
       "      <th>pts</th>\n",
       "      <th>reb</th>\n",
       "      <th>ast</th>\n",
       "      <th>net_rating</th>\n",
       "      <th>oreb_pct</th>\n",
       "      <th>dreb_pct</th>\n",
       "      <th>usg_pct</th>\n",
       "      <th>ts_pct</th>\n",
       "      <th>ast_pct</th>\n",
       "    </tr>\n",
       "  </thead>\n",
       "  <tbody>\n",
       "    <tr>\n",
       "      <th>count</th>\n",
       "      <td>12305.000000</td>\n",
       "      <td>12305.000000</td>\n",
       "      <td>12305.000000</td>\n",
       "      <td>12305.000000</td>\n",
       "      <td>12305.000000</td>\n",
       "      <td>12305.000000</td>\n",
       "      <td>12305.000000</td>\n",
       "      <td>12305.000000</td>\n",
       "      <td>12305.000000</td>\n",
       "      <td>12305.000000</td>\n",
       "      <td>12305.000000</td>\n",
       "      <td>12305.000000</td>\n",
       "      <td>12305.000000</td>\n",
       "      <td>12305.000000</td>\n",
       "    </tr>\n",
       "    <tr>\n",
       "      <th>mean</th>\n",
       "      <td>6152.000000</td>\n",
       "      <td>27.084518</td>\n",
       "      <td>200.611602</td>\n",
       "      <td>100.369926</td>\n",
       "      <td>51.290532</td>\n",
       "      <td>8.172775</td>\n",
       "      <td>3.559155</td>\n",
       "      <td>1.813986</td>\n",
       "      <td>-2.255733</td>\n",
       "      <td>0.054473</td>\n",
       "      <td>0.141014</td>\n",
       "      <td>0.184891</td>\n",
       "      <td>0.511060</td>\n",
       "      <td>0.131358</td>\n",
       "    </tr>\n",
       "    <tr>\n",
       "      <th>std</th>\n",
       "      <td>3552.291866</td>\n",
       "      <td>4.335868</td>\n",
       "      <td>9.146321</td>\n",
       "      <td>12.477150</td>\n",
       "      <td>25.095909</td>\n",
       "      <td>5.974957</td>\n",
       "      <td>2.483550</td>\n",
       "      <td>1.794155</td>\n",
       "      <td>12.673254</td>\n",
       "      <td>0.043599</td>\n",
       "      <td>0.062704</td>\n",
       "      <td>0.053390</td>\n",
       "      <td>0.101163</td>\n",
       "      <td>0.094483</td>\n",
       "    </tr>\n",
       "    <tr>\n",
       "      <th>min</th>\n",
       "      <td>0.000000</td>\n",
       "      <td>18.000000</td>\n",
       "      <td>160.020000</td>\n",
       "      <td>60.327736</td>\n",
       "      <td>1.000000</td>\n",
       "      <td>0.000000</td>\n",
       "      <td>0.000000</td>\n",
       "      <td>0.000000</td>\n",
       "      <td>-250.000000</td>\n",
       "      <td>0.000000</td>\n",
       "      <td>0.000000</td>\n",
       "      <td>0.000000</td>\n",
       "      <td>0.000000</td>\n",
       "      <td>0.000000</td>\n",
       "    </tr>\n",
       "    <tr>\n",
       "      <th>25%</th>\n",
       "      <td>3076.000000</td>\n",
       "      <td>24.000000</td>\n",
       "      <td>193.040000</td>\n",
       "      <td>90.718400</td>\n",
       "      <td>31.000000</td>\n",
       "      <td>3.600000</td>\n",
       "      <td>1.800000</td>\n",
       "      <td>0.600000</td>\n",
       "      <td>-6.400000</td>\n",
       "      <td>0.021000</td>\n",
       "      <td>0.096000</td>\n",
       "      <td>0.149000</td>\n",
       "      <td>0.480000</td>\n",
       "      <td>0.066000</td>\n",
       "    </tr>\n",
       "    <tr>\n",
       "      <th>50%</th>\n",
       "      <td>6152.000000</td>\n",
       "      <td>26.000000</td>\n",
       "      <td>200.660000</td>\n",
       "      <td>99.790240</td>\n",
       "      <td>57.000000</td>\n",
       "      <td>6.700000</td>\n",
       "      <td>3.000000</td>\n",
       "      <td>1.200000</td>\n",
       "      <td>-1.300000</td>\n",
       "      <td>0.041000</td>\n",
       "      <td>0.131000</td>\n",
       "      <td>0.181000</td>\n",
       "      <td>0.524000</td>\n",
       "      <td>0.103000</td>\n",
       "    </tr>\n",
       "    <tr>\n",
       "      <th>75%</th>\n",
       "      <td>9228.000000</td>\n",
       "      <td>30.000000</td>\n",
       "      <td>208.280000</td>\n",
       "      <td>108.862080</td>\n",
       "      <td>73.000000</td>\n",
       "      <td>11.500000</td>\n",
       "      <td>4.700000</td>\n",
       "      <td>2.400000</td>\n",
       "      <td>3.200000</td>\n",
       "      <td>0.084000</td>\n",
       "      <td>0.180000</td>\n",
       "      <td>0.217000</td>\n",
       "      <td>0.561000</td>\n",
       "      <td>0.178000</td>\n",
       "    </tr>\n",
       "    <tr>\n",
       "      <th>max</th>\n",
       "      <td>12304.000000</td>\n",
       "      <td>44.000000</td>\n",
       "      <td>231.140000</td>\n",
       "      <td>163.293120</td>\n",
       "      <td>85.000000</td>\n",
       "      <td>36.100000</td>\n",
       "      <td>16.300000</td>\n",
       "      <td>11.700000</td>\n",
       "      <td>300.000000</td>\n",
       "      <td>1.000000</td>\n",
       "      <td>1.000000</td>\n",
       "      <td>1.000000</td>\n",
       "      <td>1.500000</td>\n",
       "      <td>1.000000</td>\n",
       "    </tr>\n",
       "  </tbody>\n",
       "</table>\n",
       "</div>"
      ],
      "text/plain": [
       "            Column1           age  player_height  player_weight            gp  \\\n",
       "count  12305.000000  12305.000000   12305.000000   12305.000000  12305.000000   \n",
       "mean    6152.000000     27.084518     200.611602     100.369926     51.290532   \n",
       "std     3552.291866      4.335868       9.146321      12.477150     25.095909   \n",
       "min        0.000000     18.000000     160.020000      60.327736      1.000000   \n",
       "25%     3076.000000     24.000000     193.040000      90.718400     31.000000   \n",
       "50%     6152.000000     26.000000     200.660000      99.790240     57.000000   \n",
       "75%     9228.000000     30.000000     208.280000     108.862080     73.000000   \n",
       "max    12304.000000     44.000000     231.140000     163.293120     85.000000   \n",
       "\n",
       "                pts           reb           ast    net_rating      oreb_pct  \\\n",
       "count  12305.000000  12305.000000  12305.000000  12305.000000  12305.000000   \n",
       "mean       8.172775      3.559155      1.813986     -2.255733      0.054473   \n",
       "std        5.974957      2.483550      1.794155     12.673254      0.043599   \n",
       "min        0.000000      0.000000      0.000000   -250.000000      0.000000   \n",
       "25%        3.600000      1.800000      0.600000     -6.400000      0.021000   \n",
       "50%        6.700000      3.000000      1.200000     -1.300000      0.041000   \n",
       "75%       11.500000      4.700000      2.400000      3.200000      0.084000   \n",
       "max       36.100000     16.300000     11.700000    300.000000      1.000000   \n",
       "\n",
       "           dreb_pct       usg_pct        ts_pct       ast_pct  \n",
       "count  12305.000000  12305.000000  12305.000000  12305.000000  \n",
       "mean       0.141014      0.184891      0.511060      0.131358  \n",
       "std        0.062704      0.053390      0.101163      0.094483  \n",
       "min        0.000000      0.000000      0.000000      0.000000  \n",
       "25%        0.096000      0.149000      0.480000      0.066000  \n",
       "50%        0.131000      0.181000      0.524000      0.103000  \n",
       "75%        0.180000      0.217000      0.561000      0.178000  \n",
       "max        1.000000      1.000000      1.500000      1.000000  "
      ]
     },
     "execution_count": 119,
     "metadata": {},
     "output_type": "execute_result"
    }
   ],
   "source": [
    "df.describe()"
   ]
  },
  {
   "cell_type": "markdown",
   "id": "5967da3f-ade0-4f3f-bd29-46f5ea31b4c2",
   "metadata": {},
   "source": [
    "## Задание 2"
   ]
  },
  {
   "cell_type": "code",
   "execution_count": 124,
   "id": "fef7bbbc-2630-4348-a1d0-ff661ead7aa3",
   "metadata": {},
   "outputs": [
    {
     "data": {
      "text/plain": [
       "<matplotlib.collections.PathCollection at 0x7ed86a078e60>"
      ]
     },
     "execution_count": 124,
     "metadata": {},
     "output_type": "execute_result"
    },
    {
     "data": {
      "image/png": "[encoded data removed]",
      "text/plain": [
       "<Figure size 640x480 with 1 Axes>"
      ]
     },
     "metadata": {},
     "output_type": "display_data"
    }
   ],
   "source": [
    "height_weight = df[['player_name', 'player_height', 'player_weight']].groupby(by='player_name').mean()\n",
    "X = height_weight['player_weight'].to_numpy()\n",
    "y = height_weight['player_height'].to_numpy()\n",
    "\n",
    "plt.scatter(X, y)"
   ]
  },
  {
   "cell_type": "code",
   "execution_count": 203,
   "id": "d6c788ef-abe8-42ab-be5e-cc84733199fc",
   "metadata": {},
   "outputs": [
    {
     "name": "stderr",
     "output_type": "stream",
     "text": [
      "/home/bob1ch/Рабочий стол/DS_course/Аттестация1/venv/lib/python3.12/site-packages/sklearn/linear_model/_logistic.py:469: ConvergenceWarning: lbfgs failed to converge (status=1):\n",
      "STOP: TOTAL NO. of ITERATIONS REACHED LIMIT.\n",
      "\n",
      "Increase the number of iterations (max_iter) or scale the data as shown in:\n",
      "    https://scikit-learn.org/stable/modules/preprocessing.html\n",
      "Please also refer to the documentation for alternative solver options:\n",
      "    https://scikit-learn.org/stable/modules/linear_model.html#logistic-regression\n",
      "  n_iter_i = _check_optimize_result(\n"
     ]
    },
    {
     "name": "stdout",
     "output_type": "stream",
     "text": [
      "models score:\n",
      "linear 0.6838201619125086\n",
      "logistic 0.14073071718538566\n",
      "svm 0.6756064048154695\n"
     ]
    },
    {
     "data": {
      "image/png": "[encoded data removed]",
      "text/plain": [
       "<Figure size 1000x500 with 3 Axes>"
      ]
     },
     "metadata": {},
     "output_type": "display_data"
    }
   ],
   "source": [
    "X_train, X_test, y_train, y_test = train_test_split(X, y, test_size=0.3)\n",
    "\n",
    "model_linear = linear_model.LinearRegression().fit(X_train.reshape(-1, 1), y_train)\n",
    "model_logistic = linear_model.LogisticRegression(max_iter=500).fit(X_train.reshape(-1, 1), y_train.astype(int)) #чем выше max_iter тем более гладкой получается линия\n",
    "model_svm = svm.SVR().fit(X_train.reshape(-1, 1), y_train)\n",
    "\n",
    "models_dict = {'linear': model_linear, 'logistic': model_logistic, 'svm': model_svm}\n",
    "\n",
    "print('models score:')\n",
    "for name, model in models_dict.items():\n",
    "    if name == 'logistic':\n",
    "        print(name, model.score(X_test.reshape(-1, 1), y_test.astype(int)))\n",
    "        continue\n",
    "    print(name, model.score(X_test.reshape(-1, 1), y_test))\n",
    "\n",
    "fig, axs = plt.subplots(1, 3, figsize=(10, 5))\n",
    "(ax1, ax2, ax3) = axs\n",
    "\n",
    "fig.suptitle('Зависимость роста от веса игрока')\n",
    "\n",
    "ax1.scatter(X, y)\n",
    "ax2.scatter(X, y)\n",
    "ax3.scatter(X, y)\n",
    "\n",
    "ax1.scatter(X, model_linear.predict(X.reshape(-1, 1)), c='r')\n",
    "ax2.scatter(X, model_logistic.predict(X.reshape(-1, 1)), c='r')\n",
    "ax3.scatter(X, model_svm.predict(X.reshape(-1, 1)), c='r')\n",
    "\n",
    "for ax in axs.flat:\n",
    "    ax.set(xlabel='Вес игрока', ylabel='Рост')\n",
    "\n",
    "plt.tight_layout()"
   ]
  },
  {
   "cell_type": "markdown",
   "id": "e2a31ae2-f34d-42fa-a836-1c74751544e9",
   "metadata": {},
   "source": [
    "## Задание 3"
   ]
  },
  {
   "cell_type": "code",
   "execution_count": 469,
   "id": "66703aad-0d35-4235-87b8-9fdb099467d8",
   "metadata": {},
   "outputs": [],
   "source": [
    "df_train = df[['pts', 'reb', 'ast', 'player_height', 'player_weight', 'team_abbreviation', 'season']]\\\n",
    "                .loc[df.season.str[:4] != '2010']\\\n",
    "                .groupby(by=['season', 'team_abbreviation'], as_index=False).mean()\n",
    "#Выборка для обучения дерева будет делиться на трейн и тест\n",
    "#Нам очень невыгодно, чтобы выборка с сезоном 2010-2011 попала в трейн\n",
    "#При попадании в трейн дерево просто запоминает ответы для этого сезона и тогда смысла в проверке на этом сезоне не будет\n",
    "#test у нас очень маленький и состоит из одного сезона 2010-2011\n",
    "#Надеюсь, что достаточно полно описал логику своих решений\n",
    "#Из-за маленького размера получившегося датасета будем применять поиск по сетке с кроссвалидацией\n",
    "X = df_train[['pts', 'reb', 'ast', 'player_height', 'player_weight']]\n",
    "y = df_train['team_abbreviation']\n",
    "encoder = LabelEncoder().fit(y)\n",
    "y = encoder.transform(y)"
   ]
  },
  {
   "cell_type": "code",
   "execution_count": 470,
   "id": "afec6fba-bc62-4a93-909d-89df8c374149",
   "metadata": {},
   "outputs": [],
   "source": [
    "df_2010_2011 = df[['pts', 'reb', 'ast', 'player_height', 'player_weight', 'team_abbreviation']]\\\n",
    "                .loc[df.season.str[:4] == '2010']\\\n",
    "                .groupby(by='team_abbreviation', as_index=False).mean()\n",
    "X_test = df_2010_2011[['pts', 'reb', 'ast', 'player_height', 'player_weight']]\n",
    "y_test = encoder.transform(df_2010_2011['team_abbreviation'])"
   ]
  },
  {
   "cell_type": "code",
   "execution_count": 471,
   "id": "41ba23e4-e5e9-4a82-85a4-e60cdd096e28",
   "metadata": {},
   "outputs": [],
   "source": [
    "model = DecisionTreeClassifier(random_state=14).fit(X, y)"
   ]
  },
  {
   "cell_type": "code",
   "execution_count": 472,
   "id": "30efeb17-4db0-476d-9d82-7284cc96f694",
   "metadata": {},
   "outputs": [
    {
     "name": "stdout",
     "output_type": "stream",
     "text": [
      "score(accuracy) модели на трейне: 1.0\n",
      "score(accuracy) модели на тесте: 0.1\n",
      "кол-во листьев: 560\n",
      "глубина: 23\n"
     ]
    }
   ],
   "source": [
    "print(f\"\"\"score(accuracy) модели на трейне: {model.score(X, y)}\n",
    "score(accuracy) модели на тесте: {model.score(X_test, y_test)}\n",
    "кол-во листьев: {model.get_n_leaves()}\n",
    "глубина: {model.get_depth()}\"\"\")"
   ]
  },
  {
   "cell_type": "markdown",
   "id": "03cfc439-0651-489d-8488-cd55f3a94f64",
   "metadata": {},
   "source": [
    "Попробуем поиск по сетке "
   ]
  },
  {
   "cell_type": "code",
   "execution_count": 473,
   "id": "9da39916-10c6-46a5-bd68-478f9598b8e9",
   "metadata": {},
   "outputs": [
    {
     "data": {
      "text/plain": [
       "{'ccp_alpha': 0.0,\n",
       " 'class_weight': None,\n",
       " 'criterion': 'gini',\n",
       " 'max_depth': None,\n",
       " 'max_features': None,\n",
       " 'max_leaf_nodes': None,\n",
       " 'min_impurity_decrease': 0.0,\n",
       " 'min_samples_leaf': 1,\n",
       " 'min_samples_split': 2,\n",
       " 'min_weight_fraction_leaf': 0.0,\n",
       " 'monotonic_cst': None,\n",
       " 'random_state': 14,\n",
       " 'splitter': 'best'}"
      ]
     },
     "execution_count": 473,
     "metadata": {},
     "output_type": "execute_result"
    }
   ],
   "source": [
    "model.get_params()"
   ]
  },
  {
   "cell_type": "code",
   "execution_count": 474,
   "id": "c9a8e055-329b-4811-87ad-8c08ec22fea8",
   "metadata": {},
   "outputs": [
    {
     "name": "stderr",
     "output_type": "stream",
     "text": [
      "/home/bob1ch/Рабочий стол/DS_course/Аттестация1/venv/lib/python3.12/site-packages/sklearn/model_selection/_split.py:737: UserWarning: The least populated class in y has only 2 members, which is less than n_splits=10.\n",
      "  warnings.warn(\n"
     ]
    },
    {
     "name": "stdout",
     "output_type": "stream",
     "text": [
      "DecisionTreeClassifier(max_depth=15, min_samples_leaf=2, min_samples_split=10,\n",
      "                       random_state=14)\n"
     ]
    }
   ],
   "source": [
    "modelCV = DecisionTreeClassifier(random_state=14)\n",
    "param_grid = {'max_depth': [3, 5, 10, 15, 20, 23], \n",
    "              'min_samples_split': [2, 5, 10, 15], \n",
    "              'min_samples_leaf': [1, 2, 5],}\n",
    "sh = HalvingGridSearchCV(modelCV, param_grid, cv=10, factor=3, random_state=1744).fit(X, y)\n",
    "modelCV = sh.best_estimator_\n",
    "print(sh.best_estimator_)"
   ]
  },
  {
   "cell_type": "code",
   "execution_count": 475,
   "id": "68572917-b338-4421-9361-be4674695027",
   "metadata": {},
   "outputs": [
    {
     "name": "stdout",
     "output_type": "stream",
     "text": [
      "score(accuracy) модели на трейне: 0.42318059299191374\n",
      "score(accuracy) модели на тесте: 0.06666666666666667\n",
      "кол-во листьев: 135\n",
      "глубина: 15\n"
     ]
    }
   ],
   "source": [
    "print(f\"\"\"score(accuracy) модели на трейне: {modelCV.score(X, y)}\n",
    "score(accuracy) модели на тесте: {modelCV.score(X_test, y_test)}\n",
    "кол-во листьев: {modelCV.get_n_leaves()}\n",
    "глубина: {modelCV.get_depth()}\"\"\")"
   ]
  },
  {
   "cell_type": "markdown",
   "id": "6d33dcd0-65c2-4469-85df-3ebaeae44b39",
   "metadata": {},
   "source": [
    "## Задание 4"
   ]
  },
  {
   "cell_type": "code",
   "execution_count": 488,
   "id": "8ea472ac-44d9-40be-8156-f7005d547d37",
   "metadata": {},
   "outputs": [],
   "source": [
    "df_train2= df[['age', 'pts', 'reb', 'ast', 'player_height', 'player_weight', 'country']]\n",
    "X = df_train2[['age', 'pts', 'reb', 'ast', 'player_height', 'player_weight']]\n",
    "y = df_train2['country']\n",
    "encoder = LabelEncoder().fit(y)\n",
    "y = encoder.transform(y)"
   ]
  },
  {
   "cell_type": "code",
   "execution_count": 489,
   "id": "37ed1651-aff5-4659-9f2f-ab74fe3a7c36",
   "metadata": {},
   "outputs": [],
   "source": [
    "X_train, X_test, y_train, y_test = train_test_split(X, y)"
   ]
  },
  {
   "cell_type": "code",
   "execution_count": 490,
   "id": "ff76cc47-475d-4a5f-80bb-3bf56d8f4ab5",
   "metadata": {},
   "outputs": [],
   "source": [
    "model = DecisionTreeClassifier().fit(X_train, y_train)"
   ]
  },
  {
   "cell_type": "code",
   "execution_count": 491,
   "id": "b02fca8b-fc36-4efa-b72e-067d793d8eb9",
   "metadata": {},
   "outputs": [
    {
     "name": "stdout",
     "output_type": "stream",
     "text": [
      "score(accuracy) модели на трейне: 1.0\n",
      "score(accuracy) модели на тесте: 0.7764055898602535\n",
      "кол-во листьев: 1874\n",
      "глубина: 29\n"
     ]
    }
   ],
   "source": [
    "print(f\"\"\"score(accuracy) модели на трейне: {model.score(X_train, y_train)}\n",
    "score(accuracy) модели на тесте: {model.score(X_test, y_test)}\n",
    "кол-во листьев: {model.get_n_leaves()}\n",
    "глубина: {model.get_depth()}\"\"\")"
   ]
  },
  {
   "cell_type": "markdown",
   "id": "c4fa8eac-3513-48da-aae4-74c8733cf83f",
   "metadata": {},
   "source": [
    "Попробуем улучшить скор при помощи поиска по сетке"
   ]
  },
  {
   "cell_type": "code",
   "execution_count": 492,
   "id": "ce483698-a898-41a8-9997-03e4512bbd02",
   "metadata": {},
   "outputs": [
    {
     "name": "stderr",
     "output_type": "stream",
     "text": [
      "/home/bob1ch/Рабочий стол/DS_course/Аттестация1/venv/lib/python3.12/site-packages/sklearn/model_selection/_split.py:737: UserWarning: The least populated class in y has only 1 members, which is less than n_splits=10.\n",
      "  warnings.warn(\n"
     ]
    },
    {
     "name": "stdout",
     "output_type": "stream",
     "text": [
      "DecisionTreeClassifier(max_depth=3)\n"
     ]
    }
   ],
   "source": [
    "modelCV = DecisionTreeClassifier()\n",
    "param_grid = {'max_depth': [3, 5, 10, 20, 30], \n",
    "              'min_samples_split': [2, 5, 10, 15], \n",
    "              'min_samples_leaf': [1, 2, 5], \n",
    "              'criterion': ['gini', 'entropy']}\n",
    "sh = HalvingGridSearchCV(modelCV, param_grid, cv=10, factor=3).fit(X_test, y_test)\n",
    "modelCV = sh.best_estimator_\n",
    "print(sh.best_estimator_)"
   ]
  },
  {
   "cell_type": "code",
   "execution_count": 493,
   "id": "9c24a293-1b37-4cd4-93f3-feff6f0c390c",
   "metadata": {},
   "outputs": [
    {
     "name": "stdout",
     "output_type": "stream",
     "text": [
      "score(accuracy) модели на трейне: 0.8347420892934547\n",
      "score(accuracy) модели на тесте: 0.8446538836529087\n",
      "кол-во листьев: 8\n",
      "глубина: 3\n"
     ]
    }
   ],
   "source": [
    "print(f\"\"\"score(accuracy) модели на трейне: {modelCV.score(X_train, y_train)}\n",
    "score(accuracy) модели на тесте: {modelCV.score(X_test, y_test)}\n",
    "кол-во листьев: {modelCV.get_n_leaves()}\n",
    "глубина: {modelCV.get_depth()}\"\"\")"
   ]
  },
  {
   "cell_type": "markdown",
   "id": "e98a4c45-3562-4394-a7bf-e473272669e3",
   "metadata": {},
   "source": [
    "Попробуем ещё случайный лес"
   ]
  },
  {
   "cell_type": "code",
   "execution_count": 494,
   "id": "33798b96-cc86-4490-ba5c-e6a6ec9f702c",
   "metadata": {},
   "outputs": [
    {
     "name": "stderr",
     "output_type": "stream",
     "text": [
      "/home/bob1ch/Рабочий стол/DS_course/Аттестация1/venv/lib/python3.12/site-packages/sklearn/model_selection/_split.py:737: UserWarning: The least populated class in y has only 1 members, which is less than n_splits=10.\n",
      "  warnings.warn(\n",
      "/home/bob1ch/Рабочий стол/DS_course/Аттестация1/venv/lib/python3.12/site-packages/sklearn/model_selection/_split.py:737: UserWarning: The least populated class in y has only 1 members, which is less than n_splits=10.\n",
      "  warnings.warn(\n",
      "/home/bob1ch/Рабочий стол/DS_course/Аттестация1/venv/lib/python3.12/site-packages/sklearn/model_selection/_split.py:737: UserWarning: The least populated class in y has only 1 members, which is less than n_splits=10.\n",
      "  warnings.warn(\n",
      "/home/bob1ch/Рабочий стол/DS_course/Аттестация1/venv/lib/python3.12/site-packages/sklearn/model_selection/_split.py:737: UserWarning: The least populated class in y has only 1 members, which is less than n_splits=10.\n",
      "  warnings.warn(\n"
     ]
    },
    {
     "name": "stdout",
     "output_type": "stream",
     "text": [
      "RandomForestClassifier(max_depth=5, min_samples_split=15, n_estimators=27)\n",
      "score(accuracy) модели на трейне: 0.8362592110966623\n",
      "score(accuracy) модели на тесте: 0.8423789405264869\n"
     ]
    }
   ],
   "source": [
    "forest = RandomForestClassifier()\n",
    "\n",
    "param_grid = {'max_depth': [3, 5, 10, 20, 30], \n",
    "              'min_samples_split': [2, 5, 10, 15], \n",
    "              'min_samples_leaf': [1, 2, 5], \n",
    "              'criterion': ['gini', 'entropy']}\n",
    "\n",
    "sh = HalvingGridSearchCV(forest, \n",
    "                         param_grid, \n",
    "                         cv=10, \n",
    "                         factor=3, \n",
    "                         resource='n_estimators', \n",
    "                         max_resources=30).fit(X_test, y_test)\n",
    "forest = sh.best_estimator_\n",
    "print(sh.best_estimator_)\n",
    "print(f\"\"\"score(accuracy) модели на трейне: {forest.score(X_train, y_train)}\n",
    "score(accuracy) модели на тесте: {forest.score(X_test, y_test)}\"\"\")"
   ]
  },
  {
   "cell_type": "markdown",
   "id": "af921f66-a3d6-47a4-b050-e0b63142414b",
   "metadata": {},
   "source": [
    "Сильнее победить не получилось)"
   ]
  },
  {
   "cell_type": "code",
   "execution_count": null,
   "id": "f4628e7f-0413-4856-b2db-d634eebfe1a5",
   "metadata": {},
   "outputs": [],
   "source": []
  }
 ],
 "metadata": {
  "kernelspec": {
   "display_name": "Python 3 (ipykernel)",
   "language": "python",
   "name": "python3"
  },
  "language_info": {
   "codemirror_mode": {
    "name": "ipython",
    "version": 3
   },
   "file_extension": ".py",
   "mimetype": "text/x-python",
   "name": "python",
   "nbconvert_exporter": "python",
   "pygments_lexer": "ipython3",
   "version": "3.12.3"
  }
 },
 "nbformat": 4,
 "nbformat_minor": 5
}
